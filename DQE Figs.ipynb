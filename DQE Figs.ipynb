{
 "cells": [
  {
   "cell_type": "code",
   "execution_count": 1,
   "id": "47d03348-fcd9-4675-b28c-5af3de57765f",
   "metadata": {},
   "outputs": [],
   "source": [
    "import json"
   ]
  },
  {
   "cell_type": "code",
   "execution_count": 2,
   "id": "f6edb092-768e-4286-a31a-518d300b20a2",
   "metadata": {},
   "outputs": [],
   "source": [
    "with open(\"../sub_functions.json\", 'r') as fp:\n",
    "    grid_returning_map = json.load(fp)"
   ]
  },
  {
   "cell_type": "code",
   "execution_count": 3,
   "id": "3c9d0572-4e2e-4610-8ee0-37c1061acefc",
   "metadata": {},
   "outputs": [],
   "source": [
    "import ast\n",
    "import textwrap\n",
    "from typing import Dict, Any, List, Tuple\n",
    "import os\n",
    "import importlib.util\n"
   ]
  },
  {
   "cell_type": "code",
   "execution_count": 4,
   "id": "b0ae8ca4-20cb-4d3f-a823-533064cdc314",
   "metadata": {},
   "outputs": [],
   "source": [
    "def import_dsl_functions(dsl_file_path: str) -> Dict[str, Any]:\n",
    "    spec = importlib.util.spec_from_file_location(\"dsl\", dsl_file_path)\n",
    "    dsl_module = importlib.util.module_from_spec(spec)\n",
    "    spec.loader.exec_module(dsl_module)\n",
    "    return {name: getattr(dsl_module, name) for name in dir(dsl_module) if not name.startswith('_')}\n",
    "\n",
    "def execute_sub_function(sub_function_str: str, input_grid: Tuple[Tuple[int, ...], ...], dsl_functions: Dict[str, Any], constants: Dict[str, Any]) -> Tuple[Tuple[int, ...], ...]:\n",
    "    # Parse the sub-function string\n",
    "    sub_function_ast = ast.parse(sub_function_str).body[0].value\n",
    "\n",
    "    def eval_node(node):\n",
    "        if isinstance(node, ast.Call):\n",
    "            func_name = node.func.id\n",
    "            args = [eval_node(arg) for arg in node.args]\n",
    "            return dsl_functions[func_name](*args)\n",
    "        elif isinstance(node, ast.Name):\n",
    "            if node.id == 'I':\n",
    "                return input_grid\n",
    "            elif node.id in constants:\n",
    "                return constants[node.id]\n",
    "            elif node.id in dsl_functions:\n",
    "                return dsl_functions[node.id]\n",
    "            else:\n",
    "                raise NameError(f\"Name '{node.id}' is not defined\")\n",
    "        elif isinstance(node, ast.Num):\n",
    "            return node.n\n",
    "        else:\n",
    "            raise ValueError(f\"Unsupported node type: {type(node)}\")\n",
    "\n",
    "    return eval_node(sub_function_ast)\n"
   ]
  },
  {
   "cell_type": "code",
   "execution_count": 5,
   "id": "a10c27d5-7e5a-4018-8630-ba67e83796d1",
   "metadata": {},
   "outputs": [],
   "source": [
    "dsl_functions = import_dsl_functions('dsl.py')"
   ]
  },
  {
   "cell_type": "code",
   "execution_count": 6,
   "id": "4a7bad54-a705-4047-b61d-22856525c731",
   "metadata": {},
   "outputs": [],
   "source": [
    "import sys"
   ]
  },
  {
   "cell_type": "code",
   "execution_count": 7,
   "id": "7a0d2ebe-3380-4c74-b2a6-5c31fe28158f",
   "metadata": {},
   "outputs": [],
   "source": [
    "def read_file(file_path: str) -> str:\n",
    "    with open(file_path, 'r') as file:\n",
    "        return file.read()\n",
    "def parse_constants(code: str) -> Dict[str, Any]:\n",
    "    tree = ast.parse(code)\n",
    "    constants = {}\n",
    "    for node in ast.walk(tree):\n",
    "        if isinstance(node, ast.Assign):\n",
    "            for target in node.targets:\n",
    "                if isinstance(target, ast.Name) and target.id.isupper():\n",
    "                    if isinstance(node.value, ast.Num):\n",
    "                        constants[target.id] = node.value.n\n",
    "                    elif isinstance(node.value, ast.UnaryOp) and isinstance(node.value.op, ast.USub):\n",
    "                        # Handle negative numbers\n",
    "                        constants[target.id] = -node.value.operand.n\n",
    "                    elif isinstance(node.value, ast.Tuple):\n",
    "                        constants[target.id] = tuple(\n",
    "                            elt.n if isinstance(elt, ast.Num) \n",
    "                            else -elt.operand.n if isinstance(elt, ast.UnaryOp) and isinstance(elt.op, ast.USub)\n",
    "                            else None \n",
    "                            for elt in node.value.elts\n",
    "                        )\n",
    "                    elif sys.version_info >= (3, 8) and isinstance(node.value, ast.Constant):\n",
    "                        # Handle booleans and other constants in Python 3.8+\n",
    "                        constants[target.id] = node.value.value\n",
    "                    elif sys.version_info < (3, 8) and isinstance(node.value, ast.NameConstant):\n",
    "                        # Handle booleans in Python 3.7 and earlier\n",
    "                        constants[target.id] = node.value.value\n",
    "    return constants\n",
    "\n"
   ]
  },
  {
   "cell_type": "code",
   "execution_count": 8,
   "id": "24a638ba-13fa-44fa-9022-b32fd6693956",
   "metadata": {},
   "outputs": [],
   "source": [
    "constants_code = read_file('constants.py')\n",
    "constants = parse_constants(constants_code)\n"
   ]
  },
  {
   "cell_type": "code",
   "execution_count": 9,
   "id": "4c5974f2-dcd9-4155-8c67-cb7fb06c52da",
   "metadata": {},
   "outputs": [],
   "source": [
    "def references_input_grid(func_def: ast.FunctionDef) -> bool:\n",
    "    \"\"\"\n",
    "    Check if the function references the input grid 'I'.\n",
    "    \n",
    "    :param func_def: The AST node of the function definition\n",
    "    :return: True if the function references 'I', False otherwise\n",
    "    \"\"\"\n",
    "    class InputGridVisitor(ast.NodeVisitor):\n",
    "        def __init__(self):\n",
    "            self.references_i = False\n",
    "\n",
    "        def visit_Name(self, node):\n",
    "            if node.id == 'I':\n",
    "                self.references_i = True\n",
    "            self.generic_visit(node)\n",
    "\n",
    "    visitor = InputGridVisitor()\n",
    "    visitor.visit(func_def)\n",
    "    return visitor.references_i\n"
   ]
  },
  {
   "cell_type": "code",
   "execution_count": 10,
   "id": "7dccbd84-e363-4117-9e36-3ea49daa6b75",
   "metadata": {},
   "outputs": [],
   "source": [
    "def plot_task(\n",
    "    task: List[dict],\n",
    "    title: str = None\n",
    ") -> None:\n",
    "    \"\"\"\n",
    "    displays a task\n",
    "    \"\"\"\n",
    "    cmap = ListedColormap([\n",
    "        '#000', '#0074D9', '#FF4136', '#2ECC40', '#FFDC00',\n",
    "        '#AAAAAA', '#F012BE', '#FF851B', '#7FDBFF', '#870C25'\n",
    "    ])\n",
    "    norm = Normalize(vmin=0, vmax=9)\n",
    "    args = {'cmap': cmap, 'norm': norm}\n",
    "    height = 2\n",
    "    width = len(task)\n",
    "    figure_size = (width * 3, height * 3)\n",
    "    figure, axes = plt.subplots(height, width, figsize=figure_size)\n",
    "    if width > 1:\n",
    "        for column, example in enumerate(task):\n",
    "            axes[0, column].imshow(example['input'], **args)\n",
    "            axes[1, column].imshow(example['output'], **args)\n",
    "            axes[0, column].axis('off')\n",
    "            axes[1, column].axis('off')\n",
    "    else:\n",
    "        example=task[0]\n",
    "        axes[0].imshow(example['input'], **args)\n",
    "        axes[1].imshow(example['output'], **args)\n",
    "        axes[0].axis('off')\n",
    "        axes[1].axis('off')\n",
    "    if title is not None:\n",
    "        figure.suptitle(title, fontsize=20)\n",
    "    plt.subplots_adjust(wspace=0.1, hspace=0.1)\n",
    "    plt.show()\n"
   ]
  },
  {
   "cell_type": "code",
   "execution_count": 11,
   "id": "99c7fc23-26c7-4634-8cb7-c82f871e506c",
   "metadata": {},
   "outputs": [],
   "source": [
    "def get_data(train=True):\n",
    "    path = f'arc_original/{\"training\" if train else \"evaluation\"}'\n",
    "    data = {}\n",
    "    for fn in os.listdir(path):\n",
    "        with open(f'{path}/{fn}') as f:\n",
    "            data[fn.rstrip('.json')] = json.load(f)\n",
    "    ast = lambda g: tuple(tuple(r) for r in g)\n",
    "    return {\n",
    "        'train': {k: [{\n",
    "            'input': ast(e['input']),\n",
    "            'output': ast(e['output']),\n",
    "        } for e in v['train']] for k, v in data.items()},\n",
    "        'test': {k: [{\n",
    "            'input': ast(e['input']),\n",
    "            'output': ast(e['output']),\n",
    "        } for e in v['test']] for k, v in data.items()}\n",
    "    }\n"
   ]
  },
  {
   "cell_type": "code",
   "execution_count": 12,
   "id": "9aab014d-5a75-470a-901d-f9b65f125385",
   "metadata": {},
   "outputs": [],
   "source": [
    "data = get_data()"
   ]
  },
  {
   "cell_type": "code",
   "execution_count": 13,
   "id": "84003a92-d82a-425d-8510-4ede68e8f0a7",
   "metadata": {},
   "outputs": [],
   "source": [
    "import matplotlib.pyplot as plt\n",
    "from matplotlib.colors import ListedColormap, Normalize\n"
   ]
  },
  {
   "cell_type": "code",
   "execution_count": 14,
   "id": "7917c10a-b1cb-42c0-82d0-8c647f6dc430",
   "metadata": {},
   "outputs": [],
   "source": [
    "import numpy as np"
   ]
  },
  {
   "cell_type": "code",
   "execution_count": 15,
   "id": "e9ad0665-9c7a-48e0-8948-b407a32058c8",
   "metadata": {},
   "outputs": [],
   "source": [
    "with open(\"incremental_arc_examples.json\", 'r') as fp:\n",
    "    inc_examples = json.load(fp)\n",
    "\n",
    "with open(\"incremental_arc_solutions.json\", 'r') as fp:\n",
    "    incr_programs = json.load(fp)"
   ]
  },
  {
   "cell_type": "code",
   "execution_count": 16,
   "id": "9eccffc9-de5d-48cb-98d1-3b3e940543b5",
   "metadata": {
    "scrolled": true
   },
   "outputs": [
    {
     "data": {
      "text/plain": [
       "dict_keys(['5614dbcf_0', 'f25ffba3_0', 'f25ffba3_1', '28bf18c6_0', '28bf18c6_1', '3af2c5a8_0', '3af2c5a8_1', '62c24649_0', '62c24649_1', '67e8384a_0', '67e8384a_1', '7468f01a_0', '46f33fce_0', '46f33fce_1', '46f33fce_2', 'a740d043_0', 'a79310a0_0', 'aabf363d_0', 'aabf363d_1', 'f25fbde4_0', '1e0a9b12_0', '0d3d703e_0', '0d3d703e_1', '0d3d703e_2', '1c786137_0', '2013d3e2_0', '2013d3e2_1', '9565186b_0', 'e98196ab_0', 'e98196ab_1', 'f76d97a5_0', 'ce9e57f2_0', '9f236235_0', '46442a0e_0', '46442a0e_1', '46442a0e_2', '46442a0e_3', '46442a0e_4', '7fe24cdd_0', '7fe24cdd_1', '7fe24cdd_2', '7fe24cdd_3', '7fe24cdd_4', '0ca9ddb6_0', '543a7ed5_0', '0520fde7_0', '0520fde7_1', '0520fde7_2', 'dae9d2b5_0', 'dae9d2b5_1', 'dae9d2b5_2', '8d5021e8_0', '8d5021e8_1', '8d5021e8_2', '8d5021e8_3', '8d5021e8_4', '928ad970_0', '928ad970_1', 'b60334d2_0', 'b60334d2_1', 'b94a9452_0', 'b94a9452_1', 'b94a9452_2', 'd0f5fe59_0', 'e3497940_0', 'e3497940_1', 'e9afcf9a_0', 'e9afcf9a_1', 'e9afcf9a_2', 'e9afcf9a_3', 'e9afcf9a_4', 'e9afcf9a_5', 'e9afcf9a_6', 'e9afcf9a_7', 'e9afcf9a_8', 'e9afcf9a_9', 'd406998b_0', '5117e062_0', '3906de3d_0', '3906de3d_1', '3906de3d_2', '7b6016b9_0', 'ea32f347_0', 'ea32f347_1', '10fcaaa3_0', '10fcaaa3_1', '10fcaaa3_2', '10fcaaa3_3', '10fcaaa3_4', '10fcaaa3_5', '007bbfb7_0', '007bbfb7_1', '007bbfb7_2', '007bbfb7_3', '007bbfb7_4', '007bbfb7_5', '007bbfb7_6', '007bbfb7_7', '007bbfb7_8', '007bbfb7_9', '496994bd_0', '496994bd_1', '1b2d62fb_0', '1b2d62fb_1', '1b2d62fb_2', '1b2d62fb_3', '90c28cc7_0', '90c28cc7_1', 'b6afb2da_0', 'b6afb2da_1', 'c9f8e694_0', 'c9f8e694_1', 'd5d6de2d_0', '40853293_0', '5521c0d9_0', 'd2abd087_0', '017c7c7b_0', '017c7c7b_1', '017c7c7b_2', '017c7c7b_3', '017c7c7b_4', '363442ee_0', 'e50d258f_0', 'e50d258f_1', '25d8a9c8_0', '5c0a986e_0', '6430c8c4_0', '6430c8c4_1', '94f9d214_0', '94f9d214_1', 'ce4f8723_0', 'ce4f8723_1', 'f2829549_0', 'f2829549_1', 'f2829549_2', 'f2829549_3', 'fafffa47_0', 'fafffa47_1', 'fafffa47_2', 'fafffa47_3', 'fcb5c309_0', 'ff805c23_0', 'ff805c23_1', 'ff805c23_2', '7c008303_0', '7c008303_1', '7c008303_2', '7c008303_3', 'b230c067_0', 'e8593010_0', 'e8593010_1', '6d75e8bb_0', '6d75e8bb_1', 'a61f2674_0', '253bf280_0', '694f12f3_0', '31aa019c_0', '3bd67248_0', '73251a56_0', '73251a56_1', '8f2ea7aa_0', '8f2ea7aa_1', '8f2ea7aa_2', '8f2ea7aa_3', '8f2ea7aa_4', '8f2ea7aa_5', '8f2ea7aa_6', '8f2ea7aa_7', '8f2ea7aa_8', '8f2ea7aa_9', '8f2ea7aa_10', '8f2ea7aa_11', '8f2ea7aa_12', '8f2ea7aa_13', '8f2ea7aa_14', '8f2ea7aa_15', '8f2ea7aa_16', '8f2ea7aa_17', 'b8825c91_0', 'b8825c91_1', 'b8825c91_2', 'b8825c91_3', 'cce03e0d_0', 'cce03e0d_1', 'cce03e0d_2', 'cce03e0d_3', 'cce03e0d_4', 'cce03e0d_5', 'cce03e0d_6', 'cce03e0d_7', 'd364b489_0', 'd364b489_1', 'd364b489_2', '3ac3eb23_0', '3ac3eb23_1', '3ac3eb23_2', '3ac3eb23_3', '6e82a1ae_0', '6e82a1ae_1', '868de0fa_0', '681b3aeb_0', '681b3aeb_1', '681b3aeb_2', '681b3aeb_3', '8e5a5113_0', '8e5a5113_1', '8e5a5113_2', '8e5a5113_3', 'cf98881b_0', 'd4f3cd78_0', '6455b5f5_0', 'bd4472b8_0', 'bd4472b8_1', 'bd4472b8_2', 'bd4472b8_3', '4be741c5_0', 'bbc9ae5d_0', 'bbc9ae5d_1', 'd90796e8_0', 'f8b3ba0a_0', 'f8b3ba0a_1', '80af3007_0', '80af3007_1', '80af3007_2', '80af3007_3', '80af3007_4', '80af3007_5', '80af3007_6', '80af3007_7', '80af3007_8', '80af3007_9', '80af3007_10', '80af3007_11', '80af3007_12', '80af3007_13', '80af3007_14', '80af3007_15', '80af3007_16', '80af3007_17', '80af3007_18', '83302e8f_0', '1fad071e_0', '1fad071e_1', '11852cab_0', '11852cab_1', '11852cab_2', '3428a4f5_0', '3428a4f5_1', '3428a4f5_2', '3428a4f5_3', '178fcbfb_0', '3de23699_0', '3de23699_1', '54d9e175_0', '54d9e175_1', '54d9e175_2', '54d9e175_3', '5ad4f10b_0', '5ad4f10b_1', '5ad4f10b_2', '5ad4f10b_3', '5ad4f10b_4', '5ad4f10b_5', '5ad4f10b_6', '5ad4f10b_7', '5ad4f10b_8', '5ad4f10b_9', '6b9890af_0', '6b9890af_1', '88a62173_0', '88a62173_1', '88a62173_2', '88a62173_3', '88a62173_4', '88a62173_5', '88a62173_6', '88a62173_7', '99b1bc43_0', '99b1bc43_1', '99b1bc43_2', '99b1bc43_3', '99b1bc43_4', '99b1bc43_5', 'a9f96cdd_0', 'a9f96cdd_1', 'a9f96cdd_2', 'a9f96cdd_3', 'af902bf9_0', 'af902bf9_1', 'af902bf9_2', 'b548a754_0', 'b548a754_1', 'b548a754_2', 'b548a754_3', 'b548a754_4', 'bdad9b1f_0', 'bdad9b1f_1', 'c3e719e8_0', 'c3e719e8_1', 'c3e719e8_2', 'c3e719e8_3', 'c3e719e8_4', 'c3e719e8_5', 'c3e719e8_6', 'c3e719e8_7', 'd8c310e9_0', '321b1fc6_0', '1caeab9d_0', '77fdfe62_0', '77fdfe62_1', '77fdfe62_2', '77fdfe62_3', '77fdfe62_4', 'c0f76784_0', 'c0f76784_1', '1b60fb0c_0', '47c1f68c_0', '47c1f68c_1', '47c1f68c_2', '47c1f68c_3', '6c434453_0', '23581191_0', 'c8cbb738_0', 'dc0a314f_0', 'dc0a314f_1', 'dc0a314f_2', 'dc0a314f_3', '6ecd11f4_0', '6ecd11f4_1', '6ecd11f4_2', '6ecd11f4_3', '6ecd11f4_4', 'eb281b96_0', 'eb281b96_1', 'eb281b96_2', 'eb281b96_3', 'eb281b96_4', 'ff28f65a_0', '7e0986d6_0', '7e0986d6_1', '7e0986d6_2', '7e0986d6_3', '09629e4f_0', 'a85d4709_0', 'a85d4709_1', 'feca6190_0', 'feca6190_1', 'a68b268e_0', 'a68b268e_1', 'a68b268e_2', 'a68b268e_3', 'a68b268e_4', 'a68b268e_5', 'a68b268e_6', 'a68b268e_7', 'a68b268e_8', 'a68b268e_9', 'beb8660c_0', 'beb8660c_1', '913fb3ed_0', '913fb3ed_1', '0962bcdd_0', '0962bcdd_1', '0962bcdd_2', '0962bcdd_3', '0962bcdd_4', '0962bcdd_5', '3631a71a_0', '3631a71a_1', '3631a71a_2', '3631a71a_3', '3631a71a_4', '05269061_0', '05269061_1', '95990924_0', '95990924_1', '95990924_2', 'e509e548_0', 'e509e548_1', 'db3e9e38_0', '1bfc4729_0', '1bfc4729_1', '1bfc4729_2', '1bfc4729_3', '1bfc4729_4', '1bfc4729_5', '1bfc4729_6', '1bfc4729_7', '1bfc4729_8', '93b581b8_0', '9edfc990_0', 'a65b410d_0', 'a65b410d_1', 'a65b410d_2', '97999447_0', '91714a58_0', '91714a58_1', '91714a58_2', '91714a58_3', 'a61ba2ce_0', 'a61ba2ce_1', '8e1813be_0', '8e1813be_1', '8e1813be_2', '8e1813be_3', '8e1813be_4', 'bc1d5164_0', 'bc1d5164_1', 'bc1d5164_2', 'bc1d5164_3', 'ce602527_0', '75b8110e_0', '75b8110e_1', '75b8110e_2', '75b8110e_3', '75b8110e_4', '75b8110e_5', '75b8110e_6', '75b8110e_7', '75b8110e_8', '75b8110e_9', '941d9a10_0', '941d9a10_1', '1a07d186_0', 'd687bc17_0', '6e19193c_0', 'ef135b50_0', 'ef135b50_1', '8a004b2b_0', '8a004b2b_1', '8a004b2b_2', '8a004b2b_3', '8a004b2b_4', 'e26a3af2_0', 'e26a3af2_1', 'e26a3af2_2', 'e26a3af2_3', 'e26a3af2_4', '4093f84a_0', '4093f84a_1', '4093f84a_2', '4093f84a_3', '4093f84a_4', '4612dd53_0', '4612dd53_1', '4612dd53_2', '4612dd53_3', '4612dd53_4', '4612dd53_5', '4612dd53_6', '4612dd53_7', '4612dd53_8', '4612dd53_9', '4612dd53_10', '29c11459_0', '29c11459_1', '29c11459_2', '29c11459_3', '29c11459_4', '29c11459_5', '29c11459_6', '29c11459_7', '29c11459_8', '963e52fc_0', '963e52fc_1', '963e52fc_2', 'ae3edfdc_0', 'ae3edfdc_1', 'ae3edfdc_2', '1f0c79e5_0', '1f0c79e5_1', '1f0c79e5_2', '1f0c79e5_3', '1f0c79e5_4', '56dc2b01_0', 'e48d4e1a_0', 'e48d4e1a_1', 'e48d4e1a_2', 'e48d4e1a_3', '6773b310_0', '6773b310_1', '6773b310_2', '6773b310_3', '780d0b14_0', '780d0b14_1', '780d0b14_2', '2204b7a8_0', '2204b7a8_1', 'd9f24cd1_0', 'd9f24cd1_1', 'd9f24cd1_2', 'd9f24cd1_3', 'd9f24cd1_4', 'b782dc8a_0', '673ef223_0', '673ef223_1', 'f5b8619d_0', 'f5b8619d_1', 'f5b8619d_2', 'f5b8619d_3', 'f5b8619d_4', 'f5b8619d_5', 'f8c80d96_0', 'f8c80d96_1', 'f8c80d96_2', 'ecdecbb3_0', 'a8d7556c_0', 'a8d7556c_1', 'a8d7556c_2', '4938f0c2_0', '4938f0c2_1', '4938f0c2_2', '834ec97d_0', '834ec97d_1', '846bdb03_0', '846bdb03_1', '846bdb03_2', '846bdb03_3', '8403a5d5_0', '8403a5d5_1', '91413438_0', '91413438_1', '91413438_2', '91413438_3', '91413438_4', '539a4f51_0', '539a4f51_1', '539a4f51_2', '539a4f51_3', '539a4f51_4', '539a4f51_5', '539a4f51_6', '539a4f51_7', '539a4f51_8', '539a4f51_9', '539a4f51_10', '539a4f51_11', '539a4f51_12', '539a4f51_13', '539a4f51_14', '539a4f51_15', '5daaa586_0', '5daaa586_1', '5daaa586_2', '5daaa586_3', '5daaa586_4', '5daaa586_5', '5daaa586_6', '5daaa586_7', '5daaa586_8', '5daaa586_9', '2bee17df_0', 'e40b9e2f_0', 'e40b9e2f_1', 'e40b9e2f_2', '29623171_0', 'b0c4d837_0', 'b0c4d837_1', 'b0c4d837_2', 'b0c4d837_3', 'b0c4d837_4', 'b0c4d837_5', 'b0c4d837_6', '8731374e_0', '8731374e_1', '8731374e_2', '8731374e_3', '8731374e_4', '8731374e_5', '8731374e_6', '8731374e_7', '8731374e_8', '8731374e_9', '8731374e_10', '8731374e_11', '8731374e_12', '8731374e_13', '8731374e_14', '8731374e_15', '8731374e_16', '8731374e_17', '8731374e_18', '8731374e_19', '272f95fa_0', '272f95fa_1', '272f95fa_2', '272f95fa_3', 'db93a21d_0', 'db93a21d_1', 'db93a21d_2', '53b68214_0', '53b68214_1', 'd6ad076f_0', 'd6ad076f_1', '6cdd2623_0', 'a3df8b1e_0', 'a3df8b1e_1', 'a3df8b1e_2', 'a3df8b1e_3', 'a3df8b1e_4', 'a3df8b1e_5', 'a3df8b1e_6', 'a3df8b1e_7', 'a3df8b1e_8', 'a3df8b1e_9', 'a3df8b1e_10', 'a3df8b1e_11', 'a3df8b1e_12', 'a3df8b1e_13', 'a3df8b1e_14', 'a3df8b1e_15', 'a3df8b1e_16', 'a3df8b1e_17', 'a3df8b1e_18', 'a3df8b1e_19', 'a3df8b1e_20', 'a3df8b1e_21', 'a3df8b1e_22', 'a3df8b1e_23', 'a3df8b1e_24', 'a3df8b1e_25', 'a3df8b1e_26', 'a3df8b1e_27', 'a3df8b1e_28', 'a3df8b1e_29', 'a3df8b1e_30', 'a3df8b1e_31', 'a3df8b1e_32', 'a3df8b1e_33', 'a3df8b1e_34', 'a3df8b1e_35', 'a3df8b1e_36', 'a3df8b1e_37', 'a3df8b1e_38', 'a3df8b1e_39', 'a3df8b1e_40', 'a3df8b1e_41', 'a3df8b1e_42', 'a3df8b1e_43', 'a3df8b1e_44', 'a3df8b1e_45', 'a3df8b1e_46', 'a3df8b1e_47', 'a3df8b1e_48', 'a3df8b1e_49', 'a3df8b1e_50', 'a3df8b1e_51', 'a3df8b1e_52', 'a3df8b1e_53', 'a3df8b1e_54', 'a3df8b1e_55', 'a3df8b1e_56', 'a3df8b1e_57', 'a3df8b1e_58', 'a3df8b1e_59', 'a3df8b1e_60', 'a3df8b1e_61', 'a3df8b1e_62', 'a3df8b1e_63', 'a3df8b1e_64', 'a3df8b1e_65', 'a3df8b1e_66', 'a3df8b1e_67', 'a3df8b1e_68', 'a3df8b1e_69', 'a3df8b1e_70', 'a3df8b1e_71', 'a3df8b1e_72', 'a3df8b1e_73', 'a3df8b1e_74', 'a3df8b1e_75', 'a3df8b1e_76', 'a3df8b1e_77', 'a3df8b1e_78', 'a3df8b1e_79', 'a3df8b1e_80', 'a3df8b1e_81', 'a3df8b1e_82', 'a3df8b1e_83', 'a3df8b1e_84', 'a3df8b1e_85', 'a3df8b1e_86', 'a3df8b1e_87', 'a3df8b1e_88', 'a3df8b1e_89', 'a3df8b1e_90', 'a3df8b1e_91', 'a3df8b1e_92', 'a3df8b1e_93', 'a3df8b1e_94', 'a3df8b1e_95', 'a3df8b1e_96', 'a3df8b1e_97', 'a3df8b1e_98', 'a3df8b1e_99', 'a3df8b1e_100', 'a3df8b1e_101', 'a3df8b1e_102', 'a3df8b1e_103', 'a3df8b1e_104', 'a3df8b1e_105', 'a3df8b1e_106', 'a3df8b1e_107', 'a3df8b1e_108', 'a3df8b1e_109', 'a3df8b1e_110', 'a3df8b1e_111', 'a3df8b1e_112', 'a3df8b1e_113', 'a3df8b1e_114', 'a3df8b1e_115', 'a3df8b1e_116', 'a3df8b1e_117', 'a3df8b1e_118', 'a3df8b1e_119', 'a3df8b1e_120', 'a3df8b1e_121', 'a3df8b1e_122', 'a3df8b1e_123', 'a3df8b1e_124', 'a3df8b1e_125', 'a3df8b1e_126', 'a3df8b1e_127', '8d510a79_0', 'cdecee7f_0', 'cdecee7f_1', 'cdecee7f_2', 'cdecee7f_3', 'cdecee7f_4', 'cdecee7f_5', 'cdecee7f_6', 'cdecee7f_7', 'cdecee7f_8', 'cdecee7f_9', '3345333e_0', '3345333e_1', '3345333e_2', '3345333e_3', '3345333e_4', '3345333e_5', 'caa06a1f_0', 'caa06a1f_1', 'caa06a1f_2', 'caa06a1f_3', 'caa06a1f_4', 'caa06a1f_5', 'e21d9049_0', 'd89b689b_0', '63613498_0', '63613498_1', '63613498_2', '63613498_3', '06df4c85_0', 'f9012d9b_0', 'a48eeaf7_0', 'e179c5f4_0', 'e179c5f4_1', 'e179c5f4_2', 'e179c5f4_3', 'e179c5f4_4', 'e179c5f4_5', 'e179c5f4_6', 'e179c5f4_7', 'e179c5f4_8', 'e179c5f4_9', 'e179c5f4_10', 'e179c5f4_11', 'e179c5f4_12', 'e179c5f4_13', 'e179c5f4_14', 'e179c5f4_15', 'e179c5f4_16', 'e179c5f4_17', 'e179c5f4_18', 'e179c5f4_19', 'e179c5f4_20', 'e179c5f4_21', 'e179c5f4_22', 'e179c5f4_23', 'e179c5f4_24', 'e179c5f4_25', 'e179c5f4_26', 'e179c5f4_27', 'e179c5f4_28', '228f6490_0', 'd06dbe63_0', 'd06dbe63_1', 'd06dbe63_2', 'd06dbe63_3', 'd06dbe63_4', '36fdfd69_0', '36fdfd69_1', '0a938d79_0', '99fa7670_0', '99fa7670_1', '99fa7670_2', '99fa7670_3', '72322fa7_0', '855e0971_0', 'a78176bb_0', '952a094c_0', '2bcee788_0', '2bcee788_1', '2bcee788_2', '2bcee788_3', '2bcee788_4', '776ffc46_0', '776ffc46_1', 'f35d900a_0', '0dfd9992_0', '0dfd9992_1', '29ec7d0e_0', '29ec7d0e_1', '98cf29f8_0', '469497ad_0', '469497ad_1', '469497ad_2', '39e1d7f9_0', '39e1d7f9_1', '484b58aa_0', '484b58aa_1', '3befdf3e_0', '3befdf3e_1', '9aec4887_0', '9aec4887_1', '49d1d64f_0', '49d1d64f_1', '49d1d64f_2', '57aa92db_0', 'aba27056_0', 'aba27056_1', 'aba27056_2', 'aba27056_3', 'aba27056_4', 'aba27056_5', 'f1cefba8_0', 'f1cefba8_1', 'f1cefba8_2', 'f1cefba8_3', 'f1cefba8_4', 'f1cefba8_5', 'f1cefba8_6', 'f1cefba8_7', 'f1cefba8_8', 'f1cefba8_9', 'f1cefba8_10', 'f1cefba8_11', 'f1cefba8_12', 'f1cefba8_13', 'f1cefba8_14', 'f1cefba8_15', 'f1cefba8_16', 'f1cefba8_17', 'f1cefba8_18', 'f1cefba8_19', 'f1cefba8_20', 'f1cefba8_21', 'f1cefba8_22', 'f1cefba8_23', 'f1cefba8_24', 'f1cefba8_25', 'f1cefba8_26', 'f1cefba8_27', 'f1cefba8_28', 'f1cefba8_29', 'f1cefba8_30', 'f1cefba8_31', 'f1cefba8_32', 'f1cefba8_33', 'f1cefba8_34', 'f1cefba8_35', 'f1cefba8_36', 'f1cefba8_37', 'f1cefba8_38', 'f1cefba8_39', 'f1cefba8_40', 'f1cefba8_41', 'f1cefba8_42', 'f1cefba8_43', 'f1cefba8_44', 'f1cefba8_45', 'f1cefba8_46', 'f1cefba8_47', 'f1cefba8_48', 'f1cefba8_49', 'f1cefba8_50', 'f1cefba8_51', 'f1cefba8_52', 'f1cefba8_53', 'f1cefba8_54', 'f1cefba8_55', 'f1cefba8_56', 'f1cefba8_57', 'f1cefba8_58', 'f1cefba8_59', 'f1cefba8_60', 'f1cefba8_61', 'f1cefba8_62', 'f1cefba8_63', 'f1cefba8_64', 'f1cefba8_65', 'f1cefba8_66', '1e32b0e9_0', '1e32b0e9_1', '4c5c2cf0_0', '4c5c2cf0_1', '4c5c2cf0_2', '4c5c2cf0_3', '4c5c2cf0_4', '4c5c2cf0_5', '4c5c2cf0_6', '4c5c2cf0_7', '4c5c2cf0_8', '4c5c2cf0_9', '4c5c2cf0_10', '4c5c2cf0_11', '4c5c2cf0_12', '4c5c2cf0_13', '4c5c2cf0_14', '4c5c2cf0_15', '4c5c2cf0_16', '4c5c2cf0_17', '508bd3b6_0', '508bd3b6_1', '508bd3b6_2', '508bd3b6_3', '508bd3b6_4', '508bd3b6_5', '508bd3b6_6', '508bd3b6_7', '6d0160f0_0', '6d0160f0_1', '6d0160f0_2', '6d0160f0_3', '6d0160f0_4', '6d0160f0_5', '6d0160f0_6', '6d0160f0_7', 'f8a8fe49_0', 'f8a8fe49_1', 'f8a8fe49_2', 'f8a8fe49_3', 'f8a8fe49_4', 'f8a8fe49_5', 'f8a8fe49_6', 'f8a8fe49_7', 'f8a8fe49_8', 'f8a8fe49_9', 'd07ae81c_0', '6a1e5592_0', '6a1e5592_1', '6a1e5592_2', '6a1e5592_3', '6a1e5592_4', '6a1e5592_5', '6a1e5592_6', '0e206a2e_0', '4290ef0e_0', '4290ef0e_1', '4290ef0e_2', '4290ef0e_3', '4290ef0e_4', '4290ef0e_5', '4290ef0e_6', '50846271_0', '50846271_1', '50846271_2', '50846271_3', '50846271_4', '50846271_5', '50846271_6', '50846271_7', 'b527c5c6_0', '150deff5_0', '150deff5_1', '150deff5_2', '150deff5_3', '150deff5_4', '150deff5_5', '150deff5_6', '150deff5_7', '150deff5_8', '150deff5_9', '150deff5_10', '150deff5_11', '150deff5_12', '150deff5_13', '150deff5_14', '150deff5_15', '150deff5_16', '150deff5_17', '150deff5_18', '150deff5_19', '150deff5_20', '150deff5_21', '150deff5_22', '150deff5_23', '150deff5_24', '150deff5_25', '150deff5_26', '150deff5_27', '150deff5_28', '150deff5_29', '150deff5_30', '150deff5_31', '150deff5_32', '150deff5_33', '150deff5_34', '150deff5_35', '150deff5_36', '150deff5_37', '150deff5_38', '150deff5_39', '150deff5_40', '150deff5_41', '150deff5_42', '150deff5_43', '150deff5_44', '150deff5_45', '150deff5_46', '150deff5_47', '150deff5_48', '150deff5_49', '150deff5_50', '150deff5_51', '150deff5_52', '150deff5_53', '150deff5_54', '150deff5_55', '150deff5_56', '150deff5_57', '150deff5_58', '150deff5_59', '150deff5_60', '150deff5_61', 'b7249182_0', 'b7249182_1', 'b7249182_2', 'b7249182_3', 'b7249182_4', 'b7249182_5', 'b7249182_6', 'b7249182_7', 'b7249182_8', 'b7249182_9', 'b7249182_10', 'b7249182_11', 'b7249182_12', 'b7249182_13', 'b7249182_14', 'b7249182_15', 'b7249182_16', 'b7249182_17', 'b7249182_18', 'b7249182_19', 'b7249182_20', 'b7249182_21', 'b7249182_22', 'b7249182_23', 'b7249182_24', 'b7249182_25', '9d9215db_0', '9d9215db_1', '9d9215db_2', '9d9215db_3', '9d9215db_4', '9d9215db_5', '9d9215db_6', '9d9215db_7', '9d9215db_8', '9d9215db_9', '9d9215db_10', '9d9215db_11', '9d9215db_12', '9d9215db_13', '9d9215db_14', '9d9215db_15', '9d9215db_16', '9d9215db_17', '9d9215db_18', '9d9215db_19', '9d9215db_20', '9d9215db_21', '9d9215db_22', '9d9215db_23', '9d9215db_24', '9d9215db_25', '9d9215db_26', '9d9215db_27', '9d9215db_28', '9d9215db_29', '9d9215db_30', '9d9215db_31', '9d9215db_32', '9d9215db_33', '9d9215db_34', '9d9215db_35', '9d9215db_36', '9d9215db_37', '9d9215db_38', '9d9215db_39', '9d9215db_40', '9d9215db_41', '9d9215db_42', '9d9215db_43', '9d9215db_44', '9d9215db_45', '9d9215db_46', '9d9215db_47', '9d9215db_48', '9d9215db_49', '9d9215db_50', '9d9215db_51', '9d9215db_52', '9d9215db_53', '9d9215db_54', '9d9215db_55', '9d9215db_56', '9d9215db_57', '9d9215db_58', '9d9215db_59', '9d9215db_60', '9d9215db_61', '9d9215db_62', '9d9215db_63', '9d9215db_64', '9d9215db_65', '9d9215db_66', '9d9215db_67', '9d9215db_68', '9d9215db_69', '9d9215db_70', '9d9215db_71', '9d9215db_72', '9d9215db_73', '9d9215db_74', '9d9215db_75', '9d9215db_76', '9d9215db_77', '9d9215db_78', '9d9215db_79', '9d9215db_80', '9d9215db_81', '9d9215db_82', '9d9215db_83', '9d9215db_84', '9d9215db_85', '9d9215db_86', '9d9215db_87', '9d9215db_88', '9d9215db_89', '9d9215db_90', '9d9215db_91', '9d9215db_92', '9d9215db_93', '9d9215db_94', '9d9215db_95', '9d9215db_96', '9d9215db_97', '9d9215db_98', '9d9215db_99', '9d9215db_100', '9d9215db_101', '9d9215db_102', '9d9215db_103', '9d9215db_104', '9d9215db_105', '9d9215db_106', '6855a6e4_0', '6855a6e4_1', '6855a6e4_2', '6855a6e4_3', '6855a6e4_4', '6855a6e4_5', '6855a6e4_6', '6855a6e4_7', '6855a6e4_8', '6855a6e4_9', '6855a6e4_10', '6855a6e4_11', '6855a6e4_12', '6855a6e4_13', '6855a6e4_14', '6855a6e4_15', '6855a6e4_16', '6855a6e4_17', '6855a6e4_18', '6855a6e4_19', '6855a6e4_20', '6855a6e4_21', '6855a6e4_22', '6855a6e4_23', '6855a6e4_24', '6855a6e4_25', '6855a6e4_26', '6855a6e4_27', '6855a6e4_28', '6855a6e4_29', '6855a6e4_30', '6855a6e4_31', '6855a6e4_32', '6855a6e4_33', '6855a6e4_34', '6855a6e4_35', '6855a6e4_36', '6855a6e4_37', '6855a6e4_38', '6855a6e4_39', '6855a6e4_40', '6855a6e4_41', '6855a6e4_42', '6855a6e4_43', '6855a6e4_44', '6855a6e4_45', '6855a6e4_46', '6855a6e4_47', '6855a6e4_48', '6855a6e4_49', '6855a6e4_50', '264363fd_0', '264363fd_1', '264363fd_2', '264363fd_3', '264363fd_4', '264363fd_5', '264363fd_6', '264363fd_7', '264363fd_8', '264363fd_9', '264363fd_10', '264363fd_11', '264363fd_12', '7df24a62_0', '7df24a62_1', '7df24a62_2', '7df24a62_3', '7df24a62_4', '7df24a62_5', '7df24a62_6', '7df24a62_7', '7df24a62_8', '7df24a62_9', '7df24a62_10', '7df24a62_11', '7df24a62_12', '7df24a62_13', '7df24a62_14', '7df24a62_15', '7df24a62_16', '7df24a62_17', '7df24a62_18', '7df24a62_19', '7df24a62_20', '7df24a62_21', '7df24a62_22', '7df24a62_23', '7df24a62_24', '7df24a62_25', '7df24a62_26', '7df24a62_27', 'f15e1fac_0', '234bbc79_0', '2dd70a9a_0', '2dd70a9a_1', '2dd70a9a_2', '2dd70a9a_3', '2dd70a9a_4', '2dd70a9a_5', '2dd70a9a_6', '2dd70a9a_7', '2dd70a9a_8', '2dd70a9a_9', '2dd70a9a_10', '2dd70a9a_11', '2dd70a9a_12', '2dd70a9a_13', '2dd70a9a_14', '2dd70a9a_15', '2dd70a9a_16', '2dd70a9a_17', '2dd70a9a_18', '2dd70a9a_19', '2dd70a9a_20', '2dd70a9a_21', '2dd70a9a_22', '2dd70a9a_23', '2dd70a9a_24', '2dd70a9a_25', 'a64e4611_0', 'a64e4611_1', 'a64e4611_2', 'a64e4611_3', 'a64e4611_4', 'a64e4611_5', 'a64e4611_6', 'a64e4611_7', 'a64e4611_8', 'a64e4611_9', 'a64e4611_10', 'a64e4611_11', 'a64e4611_12', 'a64e4611_13', 'a64e4611_14', 'a64e4611_15', 'a64e4611_16', 'a64e4611_17', 'a64e4611_18', 'a64e4611_19', 'a64e4611_20', 'a64e4611_21', 'a64e4611_22', 'a64e4611_23', 'a64e4611_24', 'a64e4611_25', 'a64e4611_26', 'a64e4611_27', 'a64e4611_28', 'a64e4611_29', 'a64e4611_30', 'a64e4611_31', '7837ac64_0', '7837ac64_1', '7837ac64_2', '7837ac64_3', '7837ac64_4', '7837ac64_5', '7837ac64_6', '7837ac64_7', '7837ac64_8', '7837ac64_9', 'a8c38be5_0', 'b775ac94_0', 'b775ac94_1', '97a05b5b_0', '97a05b5b_1', '97a05b5b_2', '97a05b5b_3', '97a05b5b_4', '97a05b5b_5', '97a05b5b_6', '97a05b5b_7', '97a05b5b_8', '97a05b5b_9', '97a05b5b_10', '97a05b5b_11', '97a05b5b_12', '97a05b5b_13', '97a05b5b_14', '97a05b5b_15'])"
      ]
     },
     "execution_count": 16,
     "metadata": {},
     "output_type": "execute_result"
    }
   ],
   "source": [
    "inc_examples['train'].keys()"
   ]
  },
  {
   "cell_type": "code",
   "execution_count": 31,
   "id": "a9fcf24e-117d-436d-a5d2-59c9d9cbcc5a",
   "metadata": {},
   "outputs": [
    {
     "data": {
      "image/png": "[encoded data removed]",
      "text/plain": [
       "<Figure size 900x600 with 6 Axes>"
      ]
     },
     "metadata": {},
     "output_type": "display_data"
    }
   ],
   "source": [
    "plot_task(inc_examples['train']['cdecee7f_8'])"
   ]
  },
  {
   "cell_type": "code",
   "execution_count": null,
   "id": "096bcc45-5d46-4aec-91c6-3264390fed2d",
   "metadata": {},
   "outputs": [],
   "source": []
  },
  {
   "cell_type": "code",
   "execution_count": 32,
   "id": "0b705bca-79e4-4751-93b2-eeb6ec4612de",
   "metadata": {},
   "outputs": [
    {
     "data": {
      "text/plain": [
       "'hconcat(dmirror(merge(apply(rbind(canvas, UNITY), apply(color, order(objects(I, T, F, T), leftmost))))), canvas(ZERO, astuple(ONE, subtract(NINE, size(objects(I, T, F, T))))))'"
      ]
     },
     "execution_count": 32,
     "metadata": {},
     "output_type": "execute_result"
    }
   ],
   "source": [
    "incr_programs['cdecee7f_8']"
   ]
  },
  {
   "cell_type": "code",
   "execution_count": 22,
   "id": "2f75714c-0bb4-41d7-8384-f1dcf489d83e",
   "metadata": {},
   "outputs": [],
   "source": [
    "with open(\"incremental_input_grid_arc_examples.json\", 'r') as fp:\n",
    "    relabeled_examples = json.load(fp)\n",
    "\n",
    "with open(\"incremental_input_grid_arc_solutions.json\", 'r') as fp:\n",
    "    relabeled_solns = json.load(fp)"
   ]
  },
  {
   "cell_type": "code",
   "execution_count": 33,
   "id": "b66484af-56f8-4bbe-b884-d45ab512ff3b",
   "metadata": {},
   "outputs": [],
   "source": [
    "rel_keys = [k for k in relabeled_examples['train'] if 'cdecee7f' in k]"
   ]
  },
  {
   "cell_type": "code",
   "execution_count": 34,
   "id": "0720f30a-0c5e-4dba-b411-4cafa9d0df25",
   "metadata": {},
   "outputs": [
    {
     "data": {
      "text/plain": [
       "['cdecee7f_incr_input_0',\n",
       " 'cdecee7f_incr_input_1',\n",
       " 'cdecee7f_incr_input_2',\n",
       " 'cdecee7f_incr_input_3',\n",
       " 'cdecee7f_incr_input_4']"
      ]
     },
     "execution_count": 34,
     "metadata": {},
     "output_type": "execute_result"
    }
   ],
   "source": [
    "rel_keys"
   ]
  },
  {
   "cell_type": "code",
   "execution_count": 36,
   "id": "04af57d4-8a0d-4f3e-b0be-eebe85787080",
   "metadata": {},
   "outputs": [
    {
     "data": {
      "image/png": "[encoded data removed]",
      "text/plain": [
       "<Figure size 900x600 with 6 Axes>"
      ]
     },
     "metadata": {},
     "output_type": "display_data"
    }
   ],
   "source": [
    "plot_task(relabeled_examples['train']['cdecee7f_incr_input_0'])"
   ]
  },
  {
   "cell_type": "code",
   "execution_count": 37,
   "id": "e68a8d13-820d-4a6a-b85c-6a0725162266",
   "metadata": {},
   "outputs": [
    {
     "data": {
      "text/plain": [
       "'vconcat(vconcat(crop(merge(hsplit(I, THREE)), ORIGIN, astuple(ONE, THREE)), vmirror(crop(merge(hsplit(I, THREE)), DOWN, astuple(ONE, THREE)))), crop(merge(hsplit(I, THREE)), TWO_BY_ZERO, astuple(ONE, THREE)))'"
      ]
     },
     "execution_count": 37,
     "metadata": {},
     "output_type": "execute_result"
    }
   ],
   "source": [
    "relabeled_solns['cdecee7f_incr_input_0']"
   ]
  },
  {
   "cell_type": "code",
   "execution_count": null,
   "id": "22f2ab04-fda1-42f2-88c6-1ccd97eeb2bd",
   "metadata": {},
   "outputs": [],
   "source": []
  }
 ],
 "metadata": {
  "kernelspec": {
   "display_name": "Few Shot",
   "language": "python",
   "name": "few_shot_word_learning"
  },
  "language_info": {
   "codemirror_mode": {
    "name": "ipython",
    "version": 3
   },
   "file_extension": ".py",
   "mimetype": "text/x-python",
   "name": "python",
   "nbconvert_exporter": "python",
   "pygments_lexer": "ipython3",
   "version": "3.9.12"
  }
 },
 "nbformat": 4,
 "nbformat_minor": 5
}
